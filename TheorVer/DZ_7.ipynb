{
 "cells": [
  {
   "cell_type": "markdown",
   "metadata": {},
   "source": [
    "**1. Даны значения величины заработной платы заемщиков банка (zp) и значения их поведенческого кредитного скоринга (ks): zp = [35, 45, 190, 200, 40, 70, 54, 150, 120, 110], ks = [401, 574, 874, 919, 459, 739, 653, 902, 746, 832]. Используя математические операции, посчитать коэффициенты линейной регрессии, приняв за X заработную плату (то есть, zp - признак), а за y - значения скорингового балла (то есть, ks - целевая переменная). Произвести расчет как с использованием intercept, так и без.**"
   ]
  },
  {
   "cell_type": "markdown",
   "metadata": {},
   "source": [
    "**b - сошлось, a - не сошлось**"
   ]
  },
  {
   "cell_type": "code",
   "execution_count": 30,
   "metadata": {
    "ExecuteTime": {
     "end_time": "2020-03-07T14:44:19.780119Z",
     "start_time": "2020-03-07T14:44:19.768179Z"
    }
   },
   "outputs": [
    {
     "data": {
      "text/plain": [
       "2.620538882402765"
      ]
     },
     "execution_count": 30,
     "metadata": {},
     "output_type": "execute_result"
    }
   ],
   "source": [
    "b=(np.mean(zp*ks) - np.mean(zp)*np.mean(ks))/(np.mean(zp**2)-np.mean(zp)**2)\n",
    "b"
   ]
  },
  {
   "cell_type": "code",
   "execution_count": 31,
   "metadata": {
    "ExecuteTime": {
     "end_time": "2020-03-07T14:44:21.823556Z",
     "start_time": "2020-03-07T14:44:21.815340Z"
    }
   },
   "outputs": [],
   "source": [
    "zp = np.array([35, 45, 190, 200, 40, 70, 54, 150, 120, 110]).reshape(10,1)\n",
    "ks = np.array([401, 574, 874, 919, 459, 739, 653, 902, 746, 832]).reshape(10,1)"
   ]
  },
  {
   "cell_type": "code",
   "execution_count": 32,
   "metadata": {
    "ExecuteTime": {
     "end_time": "2020-03-07T14:44:22.667598Z",
     "start_time": "2020-03-07T14:44:22.663953Z"
    }
   },
   "outputs": [],
   "source": [
    "X=np.hstack([np.ones((10,1)),zp])"
   ]
  },
  {
   "cell_type": "code",
   "execution_count": 33,
   "metadata": {
    "ExecuteTime": {
     "end_time": "2020-03-07T14:44:24.622155Z",
     "start_time": "2020-03-07T14:44:24.610211Z"
    }
   },
   "outputs": [
    {
     "data": {
      "text/plain": [
       "array([[444.17735732],\n",
       "       [  2.62053888]])"
      ]
     },
     "execution_count": 33,
     "metadata": {},
     "output_type": "execute_result"
    }
   ],
   "source": [
    "B=np.dot(np.linalg.inv(np.dot(X.T,X)),X.T@ks)\n",
    "B"
   ]
  },
  {
   "cell_type": "code",
   "execution_count": 34,
   "metadata": {
    "ExecuteTime": {
     "end_time": "2020-03-07T14:44:26.179512Z",
     "start_time": "2020-03-07T14:44:26.172844Z"
    }
   },
   "outputs": [
    {
     "data": {
      "text/plain": [
       "575.7284092209784"
      ]
     },
     "execution_count": 34,
     "metadata": {},
     "output_type": "execute_result"
    }
   ],
   "source": [
    "a=np.mean(ks)-b*np.mean(X)\n",
    "a"
   ]
  },
  {
   "cell_type": "markdown",
   "metadata": {},
   "source": [
    "**2. Посчитать коэффициент линейной регрессии при заработной плате (zp), используя градиентный спуск (без intercept).**"
   ]
  },
  {
   "cell_type": "code",
   "execution_count": 66,
   "metadata": {
    "ExecuteTime": {
     "end_time": "2020-03-07T15:45:12.039409Z",
     "start_time": "2020-03-07T15:45:12.032573Z"
    }
   },
   "outputs": [],
   "source": [
    "alpha = 1e-6\n",
    "X = np.array([35, 45, 190, 200, 40, 70, 54, 150, 120, 110]).reshape(10,1)\n",
    "y = np.array([401, 574, 874, 919, 459, 739, 653, 902, 746, 832]).reshape(10,1)\n",
    "B1 = 0.1\n",
    "n=10"
   ]
  },
  {
   "cell_type": "code",
   "execution_count": 67,
   "metadata": {
    "ExecuteTime": {
     "end_time": "2020-03-07T15:45:12.619319Z",
     "start_time": "2020-03-07T15:45:12.610960Z"
    }
   },
   "outputs": [],
   "source": [
    "def mse_(B1, y=y, X=X, n=10):\n",
    "    return np.sum((B1*X-y)**2)/n"
   ]
  },
  {
   "cell_type": "code",
   "execution_count": 47,
   "metadata": {
    "ExecuteTime": {
     "end_time": "2020-03-07T15:26:16.656396Z",
     "start_time": "2020-03-07T15:26:16.648992Z"
    }
   },
   "outputs": [
    {
     "name": "stdout",
     "output_type": "stream",
     "text": [
      "B1=2.7755575615628914e-17\n",
      "B1=0.16228340000000002\n",
      "B1=0.32009537302312\n",
      "B1=0.4735591211911394\n",
      "B1=0.6227944520131357\n",
      "B1=0.7679178719179274\n",
      "B1=0.9090426772093984\n",
      "B1=1.0462790425157125\n",
      "B1=1.1797341068014686\n",
      "B1=1.3095120570099463\n"
     ]
    }
   ],
   "source": [
    "for i in range(10):\n",
    "    B1 -= alpha*(2/n)*np.sum((B1*X-y)*X)\n",
    "    print('B1={}'.format(B1))"
   ]
  },
  {
   "cell_type": "code",
   "execution_count": 68,
   "metadata": {
    "ExecuteTime": {
     "end_time": "2020-03-07T15:45:16.589429Z",
     "start_time": "2020-03-07T15:45:16.572144Z"
    }
   },
   "outputs": [
    {
     "name": "stdout",
     "output_type": "stream",
     "text": [
      "Iteration: 0, B1=0.25952808, mse=493237.7212546963\n",
      "Iteration: 10, B1=1.6319792141937546, mse=306275.7568040035\n",
      "Iteration: 20, B1=2.6698789606516935, mse=199352.96411174876\n",
      "Iteration: 30, B1=3.4547782236263824, mse=138204.25062502263\n",
      "Iteration: 40, B1=4.04834889855975, mse=103233.54824312925\n",
      "Iteration: 50, B1=4.497229618367758, mse=83233.94472982832\n",
      "Iteration: 60, B1=4.836690291080364, mse=71796.25222021657\n",
      "Iteration: 70, B1=5.093403362579137, mse=65255.0820486468\n",
      "Iteration: 80, B1=5.287539550879594, mse=61514.21323463749\n",
      "Iteration: 90, B1=5.434352720103083, mse=59374.825462025976\n",
      "Iteration: 100, B1=5.54537842245223, mse=58151.31823171113\n",
      "Iteration: 110, B1=5.629340281237233, mse=57451.59938606899\n",
      "Iteration: 120, B1=5.692835432193034, mse=57051.433003054815\n",
      "Iteration: 130, B1=5.740852880272922, mse=56822.57946410561\n",
      "Iteration: 140, B1=5.777165500770666, mse=56691.69904907657\n",
      "Iteration: 150, B1=5.804626485478126, mse=56616.849068093856\n",
      "Iteration: 160, B1=5.825393526544474, mse=56574.04266614384\n",
      "Iteration: 170, B1=5.8410983528369655, mse=56549.561857680776\n",
      "Iteration: 180, B1=5.852974939784972, mse=56535.56138215128\n",
      "Iteration: 190, B1=5.861956466540286, mse=56527.55456671675\n"
     ]
    }
   ],
   "source": [
    "for i in range(200):\n",
    "    B1 -= alpha*(2/n)*np.sum((B1*X-y)*X)\n",
    "    if i%10==0:\n",
    "        print('Iteration: {i}, B1={B1}, mse={mse}'.format(i=i, B1=B1, mse=mse_(B1)))"
   ]
  },
  {
   "cell_type": "markdown",
   "metadata": {},
   "source": [
    "**3. В каких случаях для вычисления доверительных интервалов и проверки статистических гипотез используется таблица значений функции Лапласа, а в каких - таблица критических точек распределения Стьюдента?** "
   ]
  },
  {
   "cell_type": "markdown",
   "metadata": {},
   "source": [
    "Малая выборка (n<30) - Стьюдент, Большая выборка (n>100) - Лаплас. На средних выборках результаты почти идентичны\n",
    "(в целом эти инструменты мною не освоены, буду ботать)"
   ]
  }
 ],
 "metadata": {
  "kernelspec": {
   "display_name": "Python 3",
   "language": "python",
   "name": "python3"
  },
  "language_info": {
   "codemirror_mode": {
    "name": "ipython",
    "version": 3
   },
   "file_extension": ".py",
   "mimetype": "text/x-python",
   "name": "python",
   "nbconvert_exporter": "python",
   "pygments_lexer": "ipython3",
   "version": "3.7.3"
  },
  "varInspector": {
   "cols": {
    "lenName": 16,
    "lenType": 16,
    "lenVar": 40
   },
   "kernels_config": {
    "python": {
     "delete_cmd_postfix": "",
     "delete_cmd_prefix": "del ",
     "library": "var_list.py",
     "varRefreshCmd": "print(var_dic_list())"
    },
    "r": {
     "delete_cmd_postfix": ") ",
     "delete_cmd_prefix": "rm(",
     "library": "var_list.r",
     "varRefreshCmd": "cat(var_dic_list()) "
    }
   },
   "types_to_exclude": [
    "module",
    "function",
    "builtin_function_or_method",
    "instance",
    "_Feature"
   ],
   "window_display": false
  }
 },
 "nbformat": 4,
 "nbformat_minor": 2
}
