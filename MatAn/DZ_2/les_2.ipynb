{
 "cells": [
  {
   "cell_type": "markdown",
   "metadata": {},
   "source": [
    "# Тема “Множество”\n",
    "    1. Даны три множества a,b и с. Необходимо выполнить все изученные виды бинарных операций над всеми комбинациями множеств."
   ]
  },
  {
   "cell_type": "code",
   "execution_count": 48,
   "metadata": {},
   "outputs": [],
   "source": [
    "from random import randint"
   ]
  },
  {
   "cell_type": "code",
   "execution_count": 60,
   "metadata": {},
   "outputs": [],
   "source": [
    "a = [randint(0, 10) for i in range(5)]\n",
    "b = [randint(0, 10) for i in range(5)]\n",
    "c = [randint(0, 10) for i in range(5)]"
   ]
  },
  {
   "cell_type": "code",
   "execution_count": 61,
   "metadata": {},
   "outputs": [],
   "source": [
    "# Пересечение\n",
    "ab_cross = []\n",
    "ac_cross = []\n",
    "bc_cross = []\n",
    "\n",
    "for i in a: # Пересечение a, b\n",
    "    if i in b:\n",
    "        ab_cross.append(i)\n",
    "for i in a: # Пересечение a, c\n",
    "    if i in c:\n",
    "        ac_cross.append(i)\n",
    "for i in c: # Пересечение b, c\n",
    "    if i in b:\n",
    "        bc_cross.append(i)"
   ]
  },
  {
   "cell_type": "code",
   "execution_count": 62,
   "metadata": {},
   "outputs": [
    {
     "data": {
      "text/plain": [
       "[8, 8, 0, 10, 7, 1, 1, 3, 10, 4]"
      ]
     },
     "execution_count": 62,
     "metadata": {},
     "output_type": "execute_result"
    }
   ],
   "source": [
    "# Обьединение\n",
    "ab = []\n",
    "ac = []\n",
    "bc = []\n",
    "ab_conc = a + b\n",
    "ac_conc = a + c\n",
    "bc_conc = b + c\n",
    "ab_conc"
   ]
  },
  {
   "cell_type": "code",
   "execution_count": 63,
   "metadata": {},
   "outputs": [],
   "source": [
    "# Разность\n",
    "ab_r = []\n",
    "ac_r = []\n",
    "bc_r = []\n",
    "for i in a: # разность a, b\n",
    "    if i in b:\n",
    "        pass\n",
    "    else:\n",
    "        ab_r.append(i)\n",
    "for i in a: # разность a, c\n",
    "    if i in c:\n",
    "        pass\n",
    "    else:\n",
    "        ac_r.append(i)\n",
    "for i in b: # разность b, c\n",
    "    if i in c:\n",
    "        pass\n",
    "    else:\n",
    "        bc_r.append(i)"
   ]
  },
  {
   "cell_type": "code",
   "execution_count": 64,
   "metadata": {},
   "outputs": [],
   "source": [
    "# Симметрическая разность\n",
    "ab_sim = []\n",
    "ac_sim = []\n",
    "bc_sim = []\n",
    "for i in ab_conc: # проходим по обьединению списков\n",
    "    if i in ab_cross:\n",
    "        pass\n",
    "    else: # если очередной элемент не входит в пересечение списков - включаем его в симметрическую разность\n",
    "        ab_sim.append(i)\n",
    "for i in ac_conc:\n",
    "    if i in ac_cross:\n",
    "        pass\n",
    "    else:\n",
    "        ac_sim.append(i)\n",
    "for i in bc_conc:\n",
    "    if i in bc_cross:\n",
    "        pass\n",
    "    else:\n",
    "        bc_sim.append(i)      "
   ]
  },
  {
   "cell_type": "code",
   "execution_count": 73,
   "metadata": {},
   "outputs": [
    {
     "name": "stdout",
     "output_type": "stream",
     "text": [
      "a [8, 8, 0, 10, 7]\n",
      "b [1, 1, 3, 10, 4]\n"
     ]
    },
    {
     "data": {
      "text/plain": [
       "[[8, 1],\n",
       " [8, 1],\n",
       " [8, 3],\n",
       " [8, 10],\n",
       " [8, 4],\n",
       " [8, 1],\n",
       " [8, 1],\n",
       " [8, 3],\n",
       " [8, 10],\n",
       " [8, 4],\n",
       " [0, 1],\n",
       " [0, 1],\n",
       " [0, 3],\n",
       " [0, 10],\n",
       " [0, 4],\n",
       " [10, 1],\n",
       " [10, 1],\n",
       " [10, 3],\n",
       " [10, 10],\n",
       " [10, 4],\n",
       " [7, 1],\n",
       " [7, 1],\n",
       " [7, 3],\n",
       " [7, 10],\n",
       " [7, 4]]"
      ]
     },
     "execution_count": 73,
     "metadata": {},
     "output_type": "execute_result"
    }
   ],
   "source": [
    "# Декартово произведение\n",
    "ab_dec = []\n",
    "for i in a:\n",
    "    for j in b:\n",
    "        ab_pair = [i, j]\n",
    "        ab_dec.append(ab_pair)\n",
    "print('a', a)\n",
    "print('b', b)\n",
    "ab_dec"
   ]
  },
  {
   "cell_type": "code",
   "execution_count": null,
   "metadata": {},
   "outputs": [],
   "source": [
    "Тема 3 “Последовательность”\n",
    "3* На языке Python предложить алгоритм вычисляющий численно предел с точностью до 7 знаков после запятой"
   ]
  },
  {
   "cell_type": "code",
   "execution_count": 81,
   "metadata": {},
   "outputs": [],
   "source": [
    "import math"
   ]
  },
  {
   "cell_type": "code",
   "execution_count": 83,
   "metadata": {},
   "outputs": [
    {
     "data": {
      "text/plain": [
       "2.070996628837124"
      ]
     },
     "execution_count": 83,
     "metadata": {},
     "output_type": "execute_result"
    }
   ],
   "source": [
    "n = 7\n",
    "m=n/(math.factorial(n)**(1/n))\n",
    "m\n"
   ]
  },
  {
   "cell_type": "code",
   "execution_count": 92,
   "metadata": {},
   "outputs": [
    {
     "name": "stdout",
     "output_type": "stream",
     "text": [
      "1\n",
      "2\n",
      "3\n",
      "4\n",
      "5\n",
      "6\n",
      "7\n",
      "8\n",
      "9\n",
      "10\n",
      "11\n",
      "12\n",
      "13\n",
      "14\n",
      "15\n",
      "16\n",
      "17\n",
      "18\n",
      "19\n",
      "20\n",
      "21\n",
      "22\n",
      "23\n",
      "24\n",
      "25\n",
      "26\n",
      "27\n",
      "28\n",
      "29\n",
      "30\n",
      "31\n",
      "32\n",
      "33\n",
      "34\n",
      "35\n",
      "36\n",
      "37\n",
      "38\n",
      "39\n",
      "40\n",
      "41\n",
      "42\n",
      "43\n",
      "44\n",
      "45\n",
      "46\n",
      "47\n",
      "48\n",
      "49\n",
      "50\n",
      "51\n",
      "52\n",
      "53\n",
      "54\n",
      "55\n",
      "56\n",
      "57\n",
      "58\n",
      "59\n",
      "60\n",
      "61\n",
      "62\n",
      "63\n",
      "64\n",
      "65\n",
      "66\n",
      "67\n",
      "68\n",
      "69\n",
      "70\n",
      "71\n",
      "72\n",
      "73\n",
      "74\n",
      "75\n",
      "76\n",
      "77\n",
      "78\n",
      "79\n",
      "80\n",
      "81\n",
      "82\n",
      "83\n",
      "84\n",
      "85\n",
      "86\n",
      "87\n",
      "88\n",
      "89\n",
      "90\n",
      "91\n",
      "92\n",
      "93\n",
      "94\n",
      "95\n",
      "96\n",
      "97\n",
      "98\n",
      "99\n",
      "100\n",
      "101\n",
      "102\n",
      "103\n",
      "104\n",
      "105\n",
      "106\n",
      "107\n",
      "108\n",
      "109\n",
      "110\n",
      "111\n",
      "112\n",
      "113\n",
      "114\n",
      "115\n",
      "116\n",
      "117\n",
      "118\n",
      "119\n",
      "120\n",
      "121\n",
      "122\n",
      "123\n",
      "124\n",
      "125\n",
      "126\n",
      "127\n",
      "128\n",
      "129\n",
      "130\n",
      "131\n",
      "132\n",
      "133\n",
      "134\n",
      "135\n",
      "136\n",
      "137\n",
      "138\n",
      "139\n",
      "140\n",
      "141\n",
      "142\n",
      "143\n",
      "144\n",
      "145\n",
      "146\n",
      "147\n",
      "148\n",
      "149\n",
      "150\n",
      "151\n",
      "152\n",
      "153\n",
      "154\n",
      "155\n",
      "156\n",
      "157\n",
      "158\n",
      "159\n",
      "160\n",
      "161\n",
      "162\n",
      "163\n",
      "164\n",
      "165\n",
      "166\n",
      "167\n",
      "168\n",
      "169\n",
      "170\n"
     ]
    },
    {
     "ename": "OverflowError",
     "evalue": "int too large to convert to float",
     "output_type": "error",
     "traceback": [
      "\u001b[0;31m---------------------------------------------------------------------------\u001b[0m",
      "\u001b[0;31mOverflowError\u001b[0m                             Traceback (most recent call last)",
      "\u001b[0;32m<ipython-input-92-c3806cdf1af1>\u001b[0m in \u001b[0;36m<module>\u001b[0;34m\u001b[0m\n\u001b[1;32m      4\u001b[0m \u001b[0mcount\u001b[0m \u001b[0;34m=\u001b[0m \u001b[0;36m0\u001b[0m\u001b[0;34m\u001b[0m\u001b[0;34m\u001b[0m\u001b[0m\n\u001b[1;32m      5\u001b[0m \u001b[0;32mwhile\u001b[0m \u001b[0macc\u001b[0m \u001b[0;34m>\u001b[0m \u001b[0;36m0.0001\u001b[0m\u001b[0;34m:\u001b[0m\u001b[0;34m\u001b[0m\u001b[0;34m\u001b[0m\u001b[0m\n\u001b[0;32m----> 6\u001b[0;31m     \u001b[0mm\u001b[0m\u001b[0;34m=\u001b[0m\u001b[0mn\u001b[0m\u001b[0;34m/\u001b[0m\u001b[0;34m(\u001b[0m\u001b[0mmath\u001b[0m\u001b[0;34m.\u001b[0m\u001b[0mfactorial\u001b[0m\u001b[0;34m(\u001b[0m\u001b[0mn\u001b[0m\u001b[0;34m)\u001b[0m\u001b[0;34m**\u001b[0m\u001b[0;34m(\u001b[0m\u001b[0;36m1\u001b[0m\u001b[0;34m/\u001b[0m\u001b[0mn\u001b[0m\u001b[0;34m)\u001b[0m\u001b[0;34m)\u001b[0m\u001b[0;34m\u001b[0m\u001b[0;34m\u001b[0m\u001b[0m\n\u001b[0m\u001b[1;32m      7\u001b[0m     \u001b[0macc\u001b[0m \u001b[0;34m=\u001b[0m \u001b[0mm\u001b[0m \u001b[0;34m-\u001b[0m \u001b[0mm_prev\u001b[0m\u001b[0;34m\u001b[0m\u001b[0;34m\u001b[0m\u001b[0m\n\u001b[1;32m      8\u001b[0m     \u001b[0mm_prev\u001b[0m \u001b[0;34m=\u001b[0m \u001b[0mm\u001b[0m\u001b[0;34m\u001b[0m\u001b[0;34m\u001b[0m\u001b[0m\n",
      "\u001b[0;31mOverflowError\u001b[0m: int too large to convert to float"
     ]
    }
   ],
   "source": [
    "acc = 1\n",
    "m_prev = 0\n",
    "m = n = 1\n",
    "count = 0\n",
    "while acc > 0.0001:\n",
    "    m=n/(math.factorial(n)**(1/n))\n",
    "    acc = m - m_prev\n",
    "    m_prev = m\n",
    "    n += 1\n",
    "    count += 1\n",
    "    print(count)\n",
    "print(m, acc)\n"
   ]
  },
  {
   "cell_type": "code",
   "execution_count": null,
   "metadata": {},
   "outputs": [],
   "source": []
  }
 ],
 "metadata": {
  "kernelspec": {
   "display_name": "Python 3",
   "language": "python",
   "name": "python3"
  },
  "language_info": {
   "codemirror_mode": {
    "name": "ipython",
    "version": 3
   },
   "file_extension": ".py",
   "mimetype": "text/x-python",
   "name": "python",
   "nbconvert_exporter": "python",
   "pygments_lexer": "ipython3",
   "version": "3.7.3"
  }
 },
 "nbformat": 4,
 "nbformat_minor": 2
}
