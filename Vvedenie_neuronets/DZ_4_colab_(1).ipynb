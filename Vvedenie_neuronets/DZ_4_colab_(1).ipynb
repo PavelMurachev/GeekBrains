{
  "nbformat": 4,
  "nbformat_minor": 0,
  "metadata": {
    "accelerator": "GPU",
    "colab": {
      "name": "DZ_4_colab (1).ipynb",
      "provenance": [],
      "collapsed_sections": []
    },
    "kernelspec": {
      "display_name": "Python 3",
      "language": "python",
      "name": "python3"
    },
    "language_info": {
      "codemirror_mode": {
        "name": "ipython",
        "version": 3
      },
      "file_extension": ".py",
      "mimetype": "text/x-python",
      "name": "python",
      "nbconvert_exporter": "python",
      "pygments_lexer": "ipython3",
      "version": "3.7.3"
    },
    "varInspector": {
      "cols": {
        "lenName": 16,
        "lenType": 16,
        "lenVar": 40
      },
      "kernels_config": {
        "python": {
          "delete_cmd_postfix": "",
          "delete_cmd_prefix": "del ",
          "library": "var_list.py",
          "varRefreshCmd": "print(var_dic_list())"
        },
        "r": {
          "delete_cmd_postfix": ") ",
          "delete_cmd_prefix": "rm(",
          "library": "var_list.r",
          "varRefreshCmd": "cat(var_dic_list()) "
        }
      },
      "types_to_exclude": [
        "module",
        "function",
        "builtin_function_or_method",
        "instance",
        "_Feature"
      ],
      "window_display": false
    }
  },
  "cells": [
    {
      "cell_type": "markdown",
      "metadata": {
        "colab_type": "text",
        "id": "qI0DC8WAkGMO"
      },
      "source": [
        ""
      ]
    },
    {
      "cell_type": "code",
      "metadata": {
        "colab_type": "code",
        "id": "651I0PBfDQKa",
        "colab": {}
      },
      "source": [
        "#Последняя сложная модель, которая под GPU, на колабе посчиталась за считанные секунды.\n",
        "#На ноутбуке считалась больше 10-ти часов и неясно сколько еще бы считалась. Acc и Loss у нее, между тем, были уже \n",
        "#сильно лучше, чем в результате рассчетов на GPU. \n",
        "#Интересно, почему это\n",
        "\n",
        "#Через несколько дней та же сложная сеть (в конце методички) считалась на том же колабе 2 часа. в настройках - GPU. Недоумеваю"
      ],
      "execution_count": 0,
      "outputs": []
    },
    {
      "cell_type": "markdown",
      "metadata": {
        "colab_type": "text",
        "id": "ARFUofDRkmYL"
      },
      "source": [
        "По заданию:\n",
        "Увеличение количества ядер улучает результат, но до определенного предела. Увеличиваю первую свертку больше 32, и следующие соответственно - результат ухудшается\n",
        "\n",
        "Уменьшение количества сверточных слоев результат ухудшает\n",
        "\n",
        "Увеличение количества сверточных слоев улучшает результат незначительно\n",
        "\n",
        "При добавлении пятого сверточного слоя выскакивает длинная ошибка: ValueError: Negative dimension size caused by subtracting 3 from 1 for '{{node conv2d_21/Conv2D}} = Conv2D[T=DT_FLOAT, data_format=\"NHWC\", dilations=[1, 1, 1, 1], explicit_paddings=[], padding=\"VALID\", strides=[1, 1, 1, 1], use_cudnn_on_gpu=true](max_pooling2d_20/Identity, conv2d_21/Conv2D/ReadVariableOp)' with input shapes: [?,1,1,128], [3,3,128,128].\n",
        "\n",
        "Достигнутый результат\n",
        "loss: 0.2197 - accuracy: 0.9169"
      ]
    },
    {
      "cell_type": "markdown",
      "metadata": {
        "colab_type": "text",
        "id": "GJqW1sHnm591"
      },
      "source": [
        "# Введение в искусственные нейронные сети\n",
        "# Урок 4. Сверточные нейронные сети"
      ]
    },
    {
      "cell_type": "code",
      "metadata": {
        "ExecuteTime": {
          "end_time": "2020-03-21T20:15:10.699855Z",
          "start_time": "2020-03-21T20:15:10.452382Z"
        },
        "colab_type": "code",
        "id": "iGu1gJYrtSam",
        "colab": {}
      },
      "source": [
        "import cv2\n",
        "import numpy as np\n",
        "from scipy import misc\n",
        "i = misc.ascent()\n",
        "import matplotlib.pyplot as plt"
      ],
      "execution_count": 0,
      "outputs": []
    },
    {
      "cell_type": "code",
      "metadata": {
        "ExecuteTime": {
          "end_time": "2020-03-22T14:56:33.863473Z",
          "start_time": "2020-03-22T14:56:33.815736Z"
        },
        "colab_type": "code",
        "id": "5shYON7Rm5-B",
        "colab": {}
      },
      "source": [
        "from numpy import asarray\n",
        "import tensorflow as tf\n",
        "from tensorflow.keras.models import Sequential\n",
        "from tensorflow.keras.layers import Conv2D\n",
        "from tensorflow.keras.layers import GlobalMaxPooling2D\n",
        "from keras.datasets import mnist\n",
        "from keras.models import Sequential\n",
        "from keras.layers import Dense, Conv2D\n",
        "from keras.utils import to_categorical\n",
        "from tensorflow import keras\n",
        "from keras.layers import Dense , Input , LSTM , Embedding, Dropout , Activation, GRU, Flatten\n",
        "from keras.layers import Bidirectional, GlobalMaxPool1D\n",
        "from keras.models import Model, Sequential\n",
        "from keras.layers import Convolution1D\n",
        "from keras import initializers, regularizers, constraints, optimizers, layers\n",
        "from tensorflow.keras.datasets import mnist\n",
        "from tensorflow.keras.utils import to_categorical"
      ],
      "execution_count": 0,
      "outputs": []
    },
    {
      "cell_type": "code",
      "metadata": {
        "colab_type": "code",
        "id": "kK8MmDlpmxgJ",
        "colab": {}
      },
      "source": [
        "fashion_mnist = keras.datasets.fashion_mnist\n",
        "\n",
        "(train_images, train_labels), (test_images, test_labels) = fashion_mnist.load_data()\n",
        "\n",
        "train_images = train_images / 255.0\n",
        "\n",
        "test_images = test_images / 255.0\n",
        "\n",
        "train_images = train_images.reshape(train_images.shape[0], 28,28,1)\n",
        "test_images = test_images.reshape(test_images.shape[0], 28,28,1)"
      ],
      "execution_count": 0,
      "outputs": []
    },
    {
      "cell_type": "code",
      "metadata": {
        "colab_type": "code",
        "id": "be0n-2BY7lqj",
        "colab": {}
      },
      "source": [
        "class_names = ['T-shirt/top', 'Trouser', 'Pullover', 'Dress', 'Coat',\n",
        "               'Sandal', 'Shirt', 'Sneaker', 'Bag', 'Ankle boot']"
      ],
      "execution_count": 0,
      "outputs": []
    },
    {
      "cell_type": "code",
      "metadata": {
        "colab_type": "code",
        "id": "7YHaj--Fid7E",
        "colab": {}
      },
      "source": [
        "# инициализация пустой модели\n",
        "model = tf.keras.Sequential([\n",
        "\n",
        "# первый сверточный слой\n",
        "tf.keras.layers.Conv2D(16, kernel_size=(3, 3), strides=(1, 1), activation='tanh', input_shape=(28,28,1), padding=\"same\"),\n",
        "\n",
        "# второй пуллинговый слой\n",
        "#tf.keras.layers.MaxPooling2D(pool_size=(2, 2), strides=(1, 1), padding='valid'),\n",
        "\n",
        "\n",
        "# третий сверточный слой\n",
        "tf.keras.layers.Conv2D(32, kernel_size=(3, 3), strides=(1, 1), activation='tanh', padding='valid'),\n",
        "\n",
        "# четвертый пуллинговый слой\n",
        "tf.keras.layers.MaxPooling2D(pool_size=(2, 2), strides=(2, 2), padding='valid'),\n",
        "\n",
        "# пятый полносвязный слой\n",
        "tf.keras.layers.Conv2D(64, kernel_size=(3, 3), strides=(1, 1), activation='tanh', padding='valid'),\n",
        "\n",
        "tf.keras.layers.MaxPooling2D(pool_size=(2, 2), strides=(2, 2), padding='valid'),\n",
        "# сглаживание CNN выхода чтобы можно было его присоединить к полносвязногому слою\n",
        "tf.keras.layers.Flatten(),\n",
        "\n",
        "# шестой полносвязный слой\n",
        "tf.keras.layers.Dense(64, activation='tanh'),\n",
        "\n",
        "# выходной слой с функцией активации softmax\n",
        "tf.keras.layers.Dense(10, activation='softmax')])"
      ],
      "execution_count": 0,
      "outputs": []
    },
    {
      "cell_type": "code",
      "metadata": {
        "colab_type": "code",
        "id": "hCe-61Jp78zH",
        "outputId": "136e7eca-47e1-4314-bd79-0e9be8ba979f",
        "colab": {
          "base_uri": "https://localhost:8080/",
          "height": 293
        }
      },
      "source": [
        "model.compile(optimizer='adam',\n",
        "              loss='sparse_categorical_crossentropy',\n",
        "              metrics=['accuracy'])\n",
        "model.fit(train_images, train_labels, epochs=8)"
      ],
      "execution_count": 42,
      "outputs": [
        {
          "output_type": "stream",
          "text": [
            "Epoch 1/8\n",
            "1875/1875 [==============================] - 6s 3ms/step - loss: 0.4199 - accuracy: 0.8475\n",
            "Epoch 2/8\n",
            "1875/1875 [==============================] - 6s 3ms/step - loss: 0.2881 - accuracy: 0.8960\n",
            "Epoch 3/8\n",
            "1875/1875 [==============================] - 6s 3ms/step - loss: 0.2452 - accuracy: 0.9112\n",
            "Epoch 4/8\n",
            "1875/1875 [==============================] - 6s 3ms/step - loss: 0.2135 - accuracy: 0.9226\n",
            "Epoch 5/8\n",
            "1875/1875 [==============================] - 6s 3ms/step - loss: 0.1925 - accuracy: 0.9295\n",
            "Epoch 6/8\n",
            "1875/1875 [==============================] - 6s 3ms/step - loss: 0.1745 - accuracy: 0.9368\n",
            "Epoch 7/8\n",
            "1875/1875 [==============================] - 7s 3ms/step - loss: 0.1597 - accuracy: 0.9415\n",
            "Epoch 8/8\n",
            "1875/1875 [==============================] - 7s 3ms/step - loss: 0.1470 - accuracy: 0.9467\n"
          ],
          "name": "stdout"
        },
        {
          "output_type": "execute_result",
          "data": {
            "text/plain": [
              "<tensorflow.python.keras.callbacks.History at 0x7fe126ddb0f0>"
            ]
          },
          "metadata": {
            "tags": []
          },
          "execution_count": 42
        }
      ]
    },
    {
      "cell_type": "code",
      "metadata": {
        "colab_type": "code",
        "id": "iPbgTTP7mYqD",
        "colab": {}
      },
      "source": [
        ""
      ],
      "execution_count": 0,
      "outputs": []
    },
    {
      "cell_type": "code",
      "metadata": {
        "colab_type": "code",
        "id": "pf7x_xYe8IKw",
        "colab": {
          "base_uri": "https://localhost:8080/",
          "height": 66
        },
        "outputId": "b96e65fd-3d7e-496c-b8f9-5c747ea3557f"
      },
      "source": [
        "test_loss, test_acc = model.evaluate(test_images,  test_labels, verbose=2)\n",
        "\n",
        "print('\\nТочность на проверочных данных:', test_acc)"
      ],
      "execution_count": 43,
      "outputs": [
        {
          "output_type": "stream",
          "text": [
            "313/313 - 1s - loss: 0.2783 - accuracy: 0.9056\n",
            "\n",
            "Точность на проверочных данных: 0.9056000113487244\n"
          ],
          "name": "stdout"
        }
      ]
    },
    {
      "cell_type": "markdown",
      "metadata": {
        "colab_type": "text",
        "id": "PHqn01Vpm5-c"
      },
      "source": [
        "## Практическое задание\n",
        "\n",
        "Вариант 1. (простой)\n",
        "\n",
        "- обучить сверточную нейронную сеть на датасете fashion-mnist\n",
        "- оценить рост точности при увеличении ширины сети (больше ядер)\n",
        "- оценить рост точности при увеличении глубины сети (больше слоев)\n",
        "    </li>\n",
        "\n",
        "Вариант 2. (сложный)\n",
        "- реализовать нейронную сеть в схеме AlexNet на сifar10.\n",
        "- оценить рост точности при увеличении ширины сети (больше ядер)\n",
        "- оценить рост точности при увеличении глубины сети (больше слоев)\n",
        "    </li>\n",
        "</ol>"
      ]
    },
    {
      "cell_type": "markdown",
      "metadata": {
        "colab_type": "text",
        "id": "5m6C7vmSm5-e"
      },
      "source": [
        "## Дополнительные материалы\n",
        "\n",
        "<ol>\n",
        "    <li>https://keras.io/layers/convolutional/</li>\n",
        "    <li>https://keras.io/layers/pooling/</li>\n",
        "    <li>https://keras.io/preprocessing/image/</li>\n",
        "</ol>"
      ]
    },
    {
      "cell_type": "markdown",
      "metadata": {
        "colab_type": "text",
        "id": "ccp0jnYxm5-g"
      },
      "source": [
        "## Используемая литература \n",
        "\n",
        "Для подготовки данного методического пособия были использованы следующие ресурсы:\n",
        "<ol>\n",
        "    <li>https://keras.io</li>\n",
        "    <li>Шакла Н. — Машинное обучение и TensorFlow 2019</li>\n",
        "    <li>Николенко Сергей Игоревич, Кадурин А. А. - Глубокое обучение. Погружение в мир нейронных сетей  2018</li>\n",
        "    <li>Francois Chollet - Deep Learning with Python 2018</li>\n",
        "    <li>Alex Krizhevsky, Ilya Sutskever, Geoffrey E. Hinton - ImageNet Classification with Deep Convolutional Neural Networks</li>\n",
        "    <li>Karen Simonyan, Andrew Zisserman - Very Deep Convolutional Networks for Large-Scale Image Recognition</li>\n",
        "    <li>Википедия</li>    \n",
        "</ol>"
      ]
    },
    {
      "cell_type": "code",
      "metadata": {
        "colab_type": "code",
        "id": "9nB_dTU9m5-i",
        "colab": {}
      },
      "source": [
        ""
      ],
      "execution_count": 0,
      "outputs": []
    },
    {
      "cell_type": "code",
      "metadata": {
        "colab_type": "code",
        "id": "OAMMmHyLm5-n",
        "colab": {}
      },
      "source": [
        ""
      ],
      "execution_count": 0,
      "outputs": []
    }
  ]
}