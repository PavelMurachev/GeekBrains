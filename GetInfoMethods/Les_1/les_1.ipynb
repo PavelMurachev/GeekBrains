{
 "cells": [
  {
   "cell_type": "markdown",
   "metadata": {},
   "source": [
    "# 1.1\n",
    "Посмотреть документацию к API GitHub, разобраться как вывести список репозиториев для конкретного пользователя, сохранить JSON-вывод в файле *.json."
   ]
  },
  {
   "cell_type": "code",
   "execution_count": 34,
   "metadata": {},
   "outputs": [],
   "source": [
    "import requests\n",
    "import json"
   ]
  },
  {
   "cell_type": "code",
   "execution_count": 35,
   "metadata": {},
   "outputs": [],
   "source": [
    "user = 'PavelMurachev'\n",
    "link = f'https://api.github.com/users/{user}/repos'\n",
    "\n",
    "req = requests.get(link)\n",
    "\n",
    "if req.ok:\n",
    "    tj = req.json()"
   ]
  },
  {
   "cell_type": "code",
   "execution_count": 36,
   "metadata": {},
   "outputs": [],
   "source": [
    "    with open('github.json', 'w') as file:\n",
    "        json.dump(tj, file)"
   ]
  },
  {
   "cell_type": "code",
   "execution_count": 37,
   "metadata": {},
   "outputs": [
    {
     "name": "stdout",
     "output_type": "stream",
     "text": [
      "У пользователя PavelMurachev \n"
     ]
    }
   ],
   "source": [
    "    print(f\"У пользователя {tj[0]['owner']['login']} \")\n"
   ]
  },
  {
   "cell_type": "code",
   "execution_count": 38,
   "metadata": {},
   "outputs": [
    {
     "name": "stdout",
     "output_type": "stream",
     "text": [
      "GeekBrains\n",
      "git-repo\n",
      "HelloWorld2\n",
      "snake-22-09\n",
      "StartupIdeas\n"
     ]
    }
   ],
   "source": [
    "for i in tj:\n",
    "    print([i][0]['name'])"
   ]
  },
  {
   "cell_type": "markdown",
   "metadata": {},
   "source": [
    "# 1.2\n",
    "Изучить список открытых API. Найти среди них любое, требующее авторизацию (любого типа). Выполнить запросы к нему, пройдя авторизацию. Ответ сервера записать в файл."
   ]
  },
  {
   "cell_type": "code",
   "execution_count": 21,
   "metadata": {},
   "outputs": [
    {
     "name": "stdout",
     "output_type": "stream",
     "text": [
      "········\n"
     ]
    }
   ],
   "source": [
    "import getpass\n",
    "\n",
    "username = 'PavelMurachev'\n",
    "password = getpass.getpass()"
   ]
  },
  {
   "cell_type": "code",
   "execution_count": 39,
   "metadata": {},
   "outputs": [],
   "source": [
    "req_2 = requests.get('https://api.github.com/user', auth=(username, password))\n",
    "if req_2.ok:\n",
    "    pmauth = req_2.json()\n",
    "    with open('pmauth.json', 'w') as file:\n",
    "        json.dump(pmauth, file)"
   ]
  },
  {
   "cell_type": "code",
   "execution_count": 29,
   "metadata": {},
   "outputs": [
    {
     "data": {
      "text/plain": [
       "{'login': 'PavelMurachev',\n",
       " 'id': 55283681,\n",
       " 'node_id': 'MDQ6VXNlcjU1MjgzNjgx',\n",
       " 'avatar_url': 'https://avatars3.githubusercontent.com/u/55283681?v=4',\n",
       " 'gravatar_id': '',\n",
       " 'url': 'https://api.github.com/users/PavelMurachev',\n",
       " 'html_url': 'https://github.com/PavelMurachev',\n",
       " 'followers_url': 'https://api.github.com/users/PavelMurachev/followers',\n",
       " 'following_url': 'https://api.github.com/users/PavelMurachev/following{/other_user}',\n",
       " 'gists_url': 'https://api.github.com/users/PavelMurachev/gists{/gist_id}',\n",
       " 'starred_url': 'https://api.github.com/users/PavelMurachev/starred{/owner}{/repo}',\n",
       " 'subscriptions_url': 'https://api.github.com/users/PavelMurachev/subscriptions',\n",
       " 'organizations_url': 'https://api.github.com/users/PavelMurachev/orgs',\n",
       " 'repos_url': 'https://api.github.com/users/PavelMurachev/repos',\n",
       " 'events_url': 'https://api.github.com/users/PavelMurachev/events{/privacy}',\n",
       " 'received_events_url': 'https://api.github.com/users/PavelMurachev/received_events',\n",
       " 'type': 'User',\n",
       " 'site_admin': False,\n",
       " 'name': None,\n",
       " 'company': None,\n",
       " 'blog': '',\n",
       " 'location': None,\n",
       " 'email': None,\n",
       " 'hireable': None,\n",
       " 'bio': None,\n",
       " 'public_repos': 5,\n",
       " 'public_gists': 0,\n",
       " 'followers': 0,\n",
       " 'following': 0,\n",
       " 'created_at': '2019-09-13T13:02:18Z',\n",
       " 'updated_at': '2020-01-29T20:55:18Z',\n",
       " 'private_gists': 0,\n",
       " 'total_private_repos': 0,\n",
       " 'owned_private_repos': 0,\n",
       " 'disk_usage': 915,\n",
       " 'collaborators': 0,\n",
       " 'two_factor_authentication': False,\n",
       " 'plan': {'name': 'free',\n",
       "  'space': 976562499,\n",
       "  'collaborators': 0,\n",
       "  'private_repos': 10000}}"
      ]
     },
     "execution_count": 29,
     "metadata": {},
     "output_type": "execute_result"
    }
   ],
   "source": [
    "pmauth"
   ]
  }
 ],
 "metadata": {
  "kernelspec": {
   "display_name": "Python 3",
   "language": "python",
   "name": "python3"
  },
  "language_info": {
   "codemirror_mode": {
    "name": "ipython",
    "version": 3
   },
   "file_extension": ".py",
   "mimetype": "text/x-python",
   "name": "python",
   "nbconvert_exporter": "python",
   "pygments_lexer": "ipython3",
   "version": "3.7.3"
  }
 },
 "nbformat": 4,
 "nbformat_minor": 2
}
